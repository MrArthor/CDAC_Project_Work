{
 "cells": [
  {
   "cell_type": "code",
   "execution_count": 29,
   "metadata": {},
   "outputs": [],
   "source": [
    "from sdv.metadata import SingleTableMetadata\n",
    "from sdv.sampling import Condition\n",
    "from sdv.sequential import PARSynthesizer\n",
    "import pandas as pd\n",
    "import numpy as np\n"
   ]
  },
  {
   "cell_type": "code",
   "execution_count": 30,
   "metadata": {},
   "outputs": [
    {
     "name": "stdout",
     "output_type": "stream",
     "text": [
      "Datetime                  datetime64[ns]\n",
      "Temperature                      float64\n",
      "Humidity                         float64\n",
      "WindSpeed                        float64\n",
      "GeneralDiffuseFlows              float64\n",
      "DiffuseFlows                     float64\n",
      "PowerConsumption_Zone1           float64\n",
      "PowerConsumption_Zone2           float64\n",
      "PowerConsumption_Zone3           float64\n",
      "dtype: object\n"
     ]
    }
   ],
   "source": [
    "file = \"../DataSet/powerconsumption.csv\"\n",
    "data = pd.read_csv(file, sep=',', parse_dates=[0])\n",
    "print(data.dtypes)\n"
   ]
  },
  {
   "cell_type": "code",
   "execution_count": 31,
   "metadata": {},
   "outputs": [],
   "source": [
    "# Add Sequence_ID if it does not exist\n",
    "if \"Sequence_ID\" not in data.columns:\n",
    "    data[\"Sequence_ID\"] = 1  # Use a constant if no grouping column exists\n",
    "\n",
    "# Detect metadata from dataframe\n",
    "metadata = SingleTableMetadata()\n",
    "metadata.detect_from_dataframe(data)\n",
    "\n",
    "# Ensure Datetime is recognized correctly\n",
    "metadata.update_column(column_name=\"Datetime\", sdtype=\"datetime\")\n",
    "metadata.update_column(column_name=\"Sequence_ID\", sdtype=\"id\")\n",
    "\n",
    "# Set Sequence_ID as the sequence key\n",
    "metadata.set_sequence_key(column_name=\"Sequence_ID\")\n"
   ]
  },
  {
   "cell_type": "code",
   "execution_count": 32,
   "metadata": {},
   "outputs": [
    {
     "data": {
      "text/plain": [
       "{\n",
       "    \"sequence_key\": \"Sequence_ID\",\n",
       "    \"METADATA_SPEC_VERSION\": \"SINGLE_TABLE_V1\",\n",
       "    \"columns\": {\n",
       "        \"Datetime\": {\n",
       "            \"sdtype\": \"datetime\"\n",
       "        },\n",
       "        \"Temperature\": {\n",
       "            \"sdtype\": \"numerical\"\n",
       "        },\n",
       "        \"Humidity\": {\n",
       "            \"sdtype\": \"numerical\"\n",
       "        },\n",
       "        \"WindSpeed\": {\n",
       "            \"sdtype\": \"numerical\"\n",
       "        },\n",
       "        \"GeneralDiffuseFlows\": {\n",
       "            \"sdtype\": \"numerical\"\n",
       "        },\n",
       "        \"DiffuseFlows\": {\n",
       "            \"sdtype\": \"numerical\"\n",
       "        },\n",
       "        \"PowerConsumption_Zone1\": {\n",
       "            \"sdtype\": \"numerical\"\n",
       "        },\n",
       "        \"PowerConsumption_Zone2\": {\n",
       "            \"sdtype\": \"numerical\"\n",
       "        },\n",
       "        \"PowerConsumption_Zone3\": {\n",
       "            \"sdtype\": \"numerical\"\n",
       "        },\n",
       "        \"Sequence_ID\": {\n",
       "            \"sdtype\": \"id\"\n",
       "        }\n",
       "    }\n",
       "}"
      ]
     },
     "execution_count": 32,
     "metadata": {},
     "output_type": "execute_result"
    }
   ],
   "source": [
    "metadata\n"
   ]
  },
  {
   "cell_type": "code",
   "execution_count": 33,
   "metadata": {},
   "outputs": [],
   "source": [
    "context_columns = ['Datetime', 'Temperature', 'Humidity', 'WindSpeed']\n"
   ]
  },
  {
   "cell_type": "code",
   "execution_count": 35,
   "metadata": {},
   "outputs": [
    {
     "name": "stderr",
     "output_type": "stream",
     "text": [
      "C:\\Users\\vansh\\AppData\\Local\\Packages\\PythonSoftwareFoundation.Python.3.12_qbz5n2kfra8p0\\LocalCache\\local-packages\\Python312\\site-packages\\sdv\\single_table\\base.py:119: FutureWarning: The 'SingleTableMetadata' is deprecated. Please use the new 'Metadata' class for synthesizers.\n",
      "  warnings.warn(DEPRECATION_MSG, FutureWarning)\n"
     ]
    },
    {
     "ename": "InvalidDataError",
     "evalue": "The provided data does not match the metadata:\nContext column 'Datetime' is changing inside sequence (['Sequence_ID']=1).\n\nContext column 'Temperature' is changing inside sequence (['Sequence_ID']=1).\n\nContext column 'Humidity' is changing inside sequence (['Sequence_ID']=1).\n\nContext column 'WindSpeed' is changing inside sequence (['Sequence_ID']=1).",
     "output_type": "error",
     "traceback": [
      "\u001b[1;31m---------------------------------------------------------------------------\u001b[0m",
      "\u001b[1;31mInvalidDataError\u001b[0m                          Traceback (most recent call last)",
      "Cell \u001b[1;32mIn[35], line 9\u001b[0m\n\u001b[0;32m      1\u001b[0m custom_synthesizer \u001b[38;5;241m=\u001b[39m PARSynthesizer(\n\u001b[0;32m      2\u001b[0m     metadata,\n\u001b[0;32m      3\u001b[0m     epochs\u001b[38;5;241m=\u001b[39m\u001b[38;5;241m250\u001b[39m,\n\u001b[1;32m   (...)\u001b[0m\n\u001b[0;32m      6\u001b[0m     verbose\u001b[38;5;241m=\u001b[39m\u001b[38;5;28;01mTrue\u001b[39;00m\n\u001b[0;32m      7\u001b[0m )\n\u001b[1;32m----> 9\u001b[0m \u001b[43mcustom_synthesizer\u001b[49m\u001b[38;5;241;43m.\u001b[39;49m\u001b[43mfit\u001b[49m\u001b[43m(\u001b[49m\u001b[43mdata\u001b[49m\u001b[43m)\u001b[49m\n",
      "File \u001b[1;32m~\\AppData\\Local\\Packages\\PythonSoftwareFoundation.Python.3.12_qbz5n2kfra8p0\\LocalCache\\local-packages\\Python312\\site-packages\\sdv\\single_table\\base.py:523\u001b[0m, in \u001b[0;36mBaseSynthesizer.fit\u001b[1;34m(self, data)\u001b[0m\n\u001b[0;32m    521\u001b[0m \u001b[38;5;28mself\u001b[39m\u001b[38;5;241m.\u001b[39m_data_processor\u001b[38;5;241m.\u001b[39mreset_sampling()\n\u001b[0;32m    522\u001b[0m \u001b[38;5;28mself\u001b[39m\u001b[38;5;241m.\u001b[39m_random_state_set \u001b[38;5;241m=\u001b[39m \u001b[38;5;28;01mFalse\u001b[39;00m\n\u001b[1;32m--> 523\u001b[0m processed_data \u001b[38;5;241m=\u001b[39m \u001b[38;5;28;43mself\u001b[39;49m\u001b[38;5;241;43m.\u001b[39;49m\u001b[43mpreprocess\u001b[49m\u001b[43m(\u001b[49m\u001b[43mdata\u001b[49m\u001b[43m)\u001b[49m\n\u001b[0;32m    524\u001b[0m \u001b[38;5;28mself\u001b[39m\u001b[38;5;241m.\u001b[39mfit_processed_data(processed_data)\n",
      "File \u001b[1;32m~\\AppData\\Local\\Packages\\PythonSoftwareFoundation.Python.3.12_qbz5n2kfra8p0\\LocalCache\\local-packages\\Python312\\site-packages\\sdv\\single_table\\base.py:459\u001b[0m, in \u001b[0;36mBaseSynthesizer.preprocess\u001b[1;34m(self, data)\u001b[0m\n\u001b[0;32m    452\u001b[0m     warnings\u001b[38;5;241m.\u001b[39mwarn(\n\u001b[0;32m    453\u001b[0m         \u001b[38;5;124m'\u001b[39m\u001b[38;5;124mThis model has already been fitted. To use the new preprocessed data, \u001b[39m\u001b[38;5;124m'\u001b[39m\n\u001b[0;32m    454\u001b[0m         \u001b[38;5;124m\"\u001b[39m\u001b[38;5;124mplease refit the model using \u001b[39m\u001b[38;5;124m'\u001b[39m\u001b[38;5;124mfit\u001b[39m\u001b[38;5;124m'\u001b[39m\u001b[38;5;124m or \u001b[39m\u001b[38;5;124m'\u001b[39m\u001b[38;5;124mfit_processed_data\u001b[39m\u001b[38;5;124m'\u001b[39m\u001b[38;5;124m.\u001b[39m\u001b[38;5;124m\"\u001b[39m\n\u001b[0;32m    455\u001b[0m     )\n\u001b[0;32m    457\u001b[0m is_converted \u001b[38;5;241m=\u001b[39m \u001b[38;5;28mself\u001b[39m\u001b[38;5;241m.\u001b[39m_store_and_convert_original_cols(data)\n\u001b[1;32m--> 459\u001b[0m preprocess_data \u001b[38;5;241m=\u001b[39m \u001b[38;5;28;43mself\u001b[39;49m\u001b[38;5;241;43m.\u001b[39;49m\u001b[43m_preprocess\u001b[49m\u001b[43m(\u001b[49m\u001b[43mdata\u001b[49m\u001b[43m)\u001b[49m\n\u001b[0;32m    461\u001b[0m \u001b[38;5;28;01mif\u001b[39;00m is_converted:\n\u001b[0;32m    462\u001b[0m     data\u001b[38;5;241m.\u001b[39mcolumns \u001b[38;5;241m=\u001b[39m \u001b[38;5;28mself\u001b[39m\u001b[38;5;241m.\u001b[39m_original_columns\n",
      "File \u001b[1;32m~\\AppData\\Local\\Packages\\PythonSoftwareFoundation.Python.3.12_qbz5n2kfra8p0\\LocalCache\\local-packages\\Python312\\site-packages\\sdv\\sequential\\par.py:312\u001b[0m, in \u001b[0;36mPARSynthesizer._preprocess\u001b[1;34m(self, data)\u001b[0m\n\u001b[0;32m    310\u001b[0m sequence_key_transformers \u001b[38;5;241m=\u001b[39m {sequence_key: \u001b[38;5;28;01mNone\u001b[39;00m \u001b[38;5;28;01mfor\u001b[39;00m sequence_key \u001b[38;5;129;01min\u001b[39;00m \u001b[38;5;28mself\u001b[39m\u001b[38;5;241m.\u001b[39m_sequence_key}\n\u001b[0;32m    311\u001b[0m \u001b[38;5;28;01mif\u001b[39;00m \u001b[38;5;129;01mnot\u001b[39;00m \u001b[38;5;28mself\u001b[39m\u001b[38;5;241m.\u001b[39m_data_processor\u001b[38;5;241m.\u001b[39m_prepared_for_fitting:\n\u001b[1;32m--> 312\u001b[0m     \u001b[38;5;28;43mself\u001b[39;49m\u001b[38;5;241;43m.\u001b[39;49m\u001b[43mauto_assign_transformers\u001b[49m\u001b[43m(\u001b[49m\u001b[43mdata\u001b[49m\u001b[43m)\u001b[49m\n\u001b[0;32m    314\u001b[0m \u001b[38;5;28mself\u001b[39m\u001b[38;5;241m.\u001b[39mupdate_transformers(sequence_key_transformers)\n\u001b[0;32m    315\u001b[0m preprocessed \u001b[38;5;241m=\u001b[39m \u001b[38;5;28msuper\u001b[39m()\u001b[38;5;241m.\u001b[39m_preprocess(data)\n",
      "File \u001b[1;32m~\\AppData\\Local\\Packages\\PythonSoftwareFoundation.Python.3.12_qbz5n2kfra8p0\\LocalCache\\local-packages\\Python312\\site-packages\\sdv\\sequential\\par.py:286\u001b[0m, in \u001b[0;36mPARSynthesizer.auto_assign_transformers\u001b[1;34m(self, data)\u001b[0m\n\u001b[0;32m    272\u001b[0m \u001b[38;5;28;01mdef\u001b[39;00m\u001b[38;5;250m \u001b[39m\u001b[38;5;21mauto_assign_transformers\u001b[39m(\u001b[38;5;28mself\u001b[39m, data):\n\u001b[0;32m    273\u001b[0m \u001b[38;5;250m    \u001b[39m\u001b[38;5;124;03m\"\"\"Automatically assign the required transformers for the given data and constraints.\u001b[39;00m\n\u001b[0;32m    274\u001b[0m \n\u001b[0;32m    275\u001b[0m \u001b[38;5;124;03m    This method will automatically set a configuration to the ``rdt.HyperTransformer``\u001b[39;00m\n\u001b[1;32m   (...)\u001b[0m\n\u001b[0;32m    284\u001b[0m \u001b[38;5;124;03m            If a table of the data is not present in the metadata.\u001b[39;00m\n\u001b[0;32m    285\u001b[0m \u001b[38;5;124;03m    \"\"\"\u001b[39;00m\n\u001b[1;32m--> 286\u001b[0m     \u001b[38;5;28;43msuper\u001b[39;49m\u001b[43m(\u001b[49m\u001b[43m)\u001b[49m\u001b[38;5;241;43m.\u001b[39;49m\u001b[43mauto_assign_transformers\u001b[49m\u001b[43m(\u001b[49m\u001b[43mdata\u001b[49m\u001b[43m)\u001b[49m\n\u001b[0;32m    288\u001b[0m     \u001b[38;5;66;03m# Ensure that sequence index does not get auto assigned with enforce_min_max_values\u001b[39;00m\n\u001b[0;32m    289\u001b[0m     \u001b[38;5;28;01mif\u001b[39;00m \u001b[38;5;28mself\u001b[39m\u001b[38;5;241m.\u001b[39m_sequence_index:\n",
      "File \u001b[1;32m~\\AppData\\Local\\Packages\\PythonSoftwareFoundation.Python.3.12_qbz5n2kfra8p0\\LocalCache\\local-packages\\Python312\\site-packages\\sdv\\single_table\\base.py:369\u001b[0m, in \u001b[0;36mBaseSynthesizer.auto_assign_transformers\u001b[1;34m(self, data)\u001b[0m\n\u001b[0;32m    359\u001b[0m \u001b[38;5;28;01mdef\u001b[39;00m\u001b[38;5;250m \u001b[39m\u001b[38;5;21mauto_assign_transformers\u001b[39m(\u001b[38;5;28mself\u001b[39m, data):\n\u001b[0;32m    360\u001b[0m \u001b[38;5;250m    \u001b[39m\u001b[38;5;124;03m\"\"\"Automatically assign the required transformers for the given data and constraints.\u001b[39;00m\n\u001b[0;32m    361\u001b[0m \n\u001b[0;32m    362\u001b[0m \u001b[38;5;124;03m    This method will automatically set a configuration to the ``rdt.HyperTransformer``\u001b[39;00m\n\u001b[1;32m   (...)\u001b[0m\n\u001b[0;32m    367\u001b[0m \u001b[38;5;124;03m            The raw data (before any transformations) that will be used to fit the model.\u001b[39;00m\n\u001b[0;32m    368\u001b[0m \u001b[38;5;124;03m    \"\"\"\u001b[39;00m\n\u001b[1;32m--> 369\u001b[0m     \u001b[38;5;28;43mself\u001b[39;49m\u001b[38;5;241;43m.\u001b[39;49m\u001b[43mvalidate\u001b[49m\u001b[43m(\u001b[49m\u001b[43mdata\u001b[49m\u001b[43m)\u001b[49m\n\u001b[0;32m    370\u001b[0m     \u001b[38;5;28mself\u001b[39m\u001b[38;5;241m.\u001b[39m_data_processor\u001b[38;5;241m.\u001b[39mprepare_for_fitting(data)\n",
      "File \u001b[1;32m~\\AppData\\Local\\Packages\\PythonSoftwareFoundation.Python.3.12_qbz5n2kfra8p0\\LocalCache\\local-packages\\Python312\\site-packages\\sdv\\single_table\\base.py:225\u001b[0m, in \u001b[0;36mBaseSynthesizer.validate\u001b[1;34m(self, data)\u001b[0m\n\u001b[0;32m    223\u001b[0m synthesizer_errors \u001b[38;5;241m=\u001b[39m \u001b[38;5;28mself\u001b[39m\u001b[38;5;241m.\u001b[39m_validate(data)  \u001b[38;5;66;03m# Validate rules specific to each synthesizer\u001b[39;00m\n\u001b[0;32m    224\u001b[0m \u001b[38;5;28;01mif\u001b[39;00m synthesizer_errors:\n\u001b[1;32m--> 225\u001b[0m     \u001b[38;5;28;01mraise\u001b[39;00m InvalidDataError(synthesizer_errors)\n",
      "\u001b[1;31mInvalidDataError\u001b[0m: The provided data does not match the metadata:\nContext column 'Datetime' is changing inside sequence (['Sequence_ID']=1).\n\nContext column 'Temperature' is changing inside sequence (['Sequence_ID']=1).\n\nContext column 'Humidity' is changing inside sequence (['Sequence_ID']=1).\n\nContext column 'WindSpeed' is changing inside sequence (['Sequence_ID']=1)."
     ]
    }
   ],
   "source": [
    "custom_synthesizer = PARSynthesizer(\n",
    "    metadata,\n",
    "    epochs=250,\n",
    "    context_columns=context_columns,\n",
    "    enforce_min_max_values=True,\n",
    "    verbose=True\n",
    ")\n",
    "\n",
    "custom_synthesizer.fit(data)\n"
   ]
  }
 ],
 "metadata": {
  "kernelspec": {
   "display_name": "Python 3",
   "language": "python",
   "name": "python3"
  },
  "language_info": {
   "codemirror_mode": {
    "name": "ipython",
    "version": 3
   },
   "file_extension": ".py",
   "mimetype": "text/x-python",
   "name": "python",
   "nbconvert_exporter": "python",
   "pygments_lexer": "ipython3",
   "version": "3.12.8"
  }
 },
 "nbformat": 4,
 "nbformat_minor": 2
}
